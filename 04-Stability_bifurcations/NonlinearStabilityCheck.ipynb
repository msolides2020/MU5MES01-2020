{
 "cells": [
  {
   "cell_type": "markdown",
   "metadata": {},
   "source": [
    "# Buckling and post-buckling of an hyperelastic beam"
   ]
  },
  {
   "cell_type": "code",
   "execution_count": null,
   "metadata": {},
   "outputs": [],
   "source": [
    "from dolfin import *\n",
    "from mshr import *\n",
    "import ufl \n",
    "import numpy as np\n",
    "import matplotlib.pyplot as plt\n",
    "import matplotlib\n",
    "from slepc4py import SLEPc\n",
    "from slepc_eigensolver import EigenSolver\n",
    "\n",
    "%matplotlib inline\n",
    "plt.style.use('seaborn-notebook')"
   ]
  },
  {
   "cell_type": "markdown",
   "metadata": {},
   "source": [
    "## Hyperelastic problem formulation\n",
    "\n",
    "We define the hyperelastic problem for a rectangular slab under its own weight, as done in other notebook.\n",
    "We set also a standard newton solver"
   ]
  },
  {
   "cell_type": "code",
   "execution_count": null,
   "metadata": {},
   "outputs": [],
   "source": [
    "\n",
    "# Create mesh and define boundaries fof BCs\n",
    "nu = 0.3\n",
    "nx = 40\n",
    "ny = 5 \n",
    "Lx = 1 \n",
    "Ly = .1\n",
    "degree = 2\n",
    "mesh = dolfin.RectangleMesh(dolfin.Point(0, 0), dolfin.Point(Lx, Ly), nx, ny)\n",
    "left = dolfin.CompiledSubDomain(\"near(x[0], 0) && on_boundary\")\n",
    "right = dolfin.CompiledSubDomain(\"near(x[0], Lx) && on_boundary\", Lx=Lx)\n",
    "boundary_markers = dolfin.MeshFunction(\"size_t\", mesh, dim=1, value=0)\n",
    "left_index = 1\n",
    "right_index = 2\n",
    "left.mark(boundary_markers, left_index)\n",
    "right.mark(boundary_markers, right_index)\n",
    "ds = dolfin.ds(domain=mesh,subdomain_data=boundary_markers)\n",
    "dx = dolfin.dx(domain=mesh)\n",
    "\n",
    "V_element = dolfin.VectorElement('CG', ufl.triangle, degree=degree, dim=2) \n",
    "V = dolfin.FunctionSpace(mesh, V_element)\n",
    "u = dolfin.Function(V, name=\"u\")\n",
    "\n",
    "I = ufl.Identity(2)\n",
    "F = ufl.variable(I + ufl.grad(u))  \n",
    "C = F.T*F                   \n",
    "Ic = ufl.tr(C)\n",
    "J  = ufl.det(F)\n",
    "E = 1/2*(C-I)\n",
    "Y = 1.e3\n",
    "mu, lmbda = dolfin.Constant(Y/(2*(1 + nu))), dolfin.Constant(Y*nu/((1 + nu)*(1 - 2*nu)))\n",
    "lmbda = 2*lmbda*mu/(lmbda + 2*mu) \n",
    "psi = (mu/2)*(Ic - 2) - mu*ufl.ln(J) + (lmbda/2)*(ufl.ln(J))**2\n",
    "\n",
    "rho_g =  Y * Ly**2 / 12 / Lx**3\n",
    "b0 = dolfin.Expression((\"-t*rho_g*cos(alpha)\", \"t*rho_g*sin(alpha)\"),\n",
    "                           t=0, alpha=0, rho_g=rho_g, degree=0)  \n",
    "g0 = mu*dolfin.Constant((0.0,0.0)) \n",
    "\n",
    "potential_energy = psi*dx - ufl.dot(b0, u)*dx - ufl.dot(g0, u)*ds(2)\n",
    "residual = ufl.derivative(potential_energy, u, dolfin.TestFunction(V))\n",
    "jacobian = ufl.derivative(residual, u, dolfin.TrialFunction(V))\n",
    "bcs = [dolfin.DirichletBC(V, (0., 0.), left)]\n",
    "problem = dolfin.NonlinearVariationalProblem(residual, u, bcs=bcs, J=jacobian)\n",
    "solver = dolfin.NonlinearVariationalSolver(problem)\n"
   ]
  },
  {
   "cell_type": "markdown",
   "metadata": {},
   "source": [
    "## How to compute the eigenvalues of the eigenvectors of the Hessian matrix\n",
    "\n",
    "The stability depends on the minimal eigenvalue of the Hessian matrix, obtained by assembling the bilinear form `ddE` above (the second derivative of the energy). \n",
    "\n",
    "Here, as an example, we calculate them for the undeformed configuration  `u=0`.\n",
    "\n",
    "To this end we use the class `EigenSolver` of the module `slepc_eigensolver`."
   ]
  },
  {
   "cell_type": "code",
   "execution_count": null,
   "metadata": {},
   "outputs": [],
   "source": [
    "u.assign(interpolate(Constant((\"0\",\"0\")),V))\n",
    "neig = 6\n",
    "eig_solver = EigenSolver(jacobian,u,bcs=bcs)\n",
    "ncv, it = eig_solver.solve(neig,verbose=True)\n",
    "eigenvalues, [eigenvectors_real, eigenvectors_im] = eig_solver.get_eigenpairs(ncv)\n",
    "print(\"The smallest eigenvalues are \\n\", eigenvalues.real)\n",
    "\n",
    "# save the eigenvectors tp a file that can be opened in paraview\n",
    "eig_solver.save_eigenvectors(ncv, 'results/eigenvectors-0.pvd')\n",
    "\n",
    "# plot the eigenvalues\n",
    "plt.figure()\n",
    "plt.plot(eigenvalues.real,'o')\n",
    "plt.title(\"Eigenvalues\")\n",
    "\n",
    "# plot the eigenvectors\n",
    "figure = plt.figure(figsize = (10, 10))\n",
    "for i in range(ncv):\n",
    "    plt.subplot(int(ncv/2+1),2,i+1)\n",
    "    dolfin.plot(eigenvectors_real[i],mode='displacement')\n",
    "    plt.title(\"{:d} -- {:2.2e}\".format(i,eigenvalues[i].real))"
   ]
  },
  {
   "cell_type": "markdown",
   "metadata": {},
   "source": [
    "## Nonlinear quasi-static evolution with stability check\n",
    "\n",
    "We compute here a quasi-static evolution obtained when increasing the loading parameter `t`.\n",
    "\n",
    "At each time step:\n",
    "    \n",
    "    - We compute the solution using a Newton solver, using the solution at the previous time-step as initial guess\n",
    "    \n",
    "    - We check the stability of the solution, by computing the smallest eigenvalue of the second derivative of the energy\n",
    "\n",
    "    For the stability check, we define the following function returning the smallest eigenvalue of a bilinear form with given Dirichlet boundary conditions"
   ]
  },
  {
   "cell_type": "code",
   "execution_count": null,
   "metadata": {},
   "outputs": [],
   "source": [
    "def stability_monitor(ddE,neig=2,verbose=True):\n",
    "    eig_solver = EigenSolver(ddE, u, bcs=bcs)\n",
    "    ncv, it = eig_solver.solve(neig,verbose=verbose) \n",
    "    eigenvalues, [eigenvectors_real, eigenvectors_im] = eig_solver.get_eigenpairs(ncv)\n",
    "    min_eig = min(eigenvalues.real)\n",
    "    return min_eig\n",
    "    \n",
    "stability_monitor(jacobian,neig=2)\n"
   ]
  },
  {
   "cell_type": "code",
   "execution_count": null,
   "metadata": {},
   "outputs": [],
   "source": [
    "\n",
    "loads = np.linspace(0.0, 10, 50)\n",
    "forces = 0. * loads\n",
    "displ = 0. * loads\n",
    "min_eig = 0. * loads\n",
    "u.rename(\"u\",\"u\")\n",
    "file_u = File(\"results/nonlinear_compression.pvd\");\n",
    "for (i,t) in enumerate(loads):\n",
    "    b0.t = t \n",
    "    # solve the problem\n",
    "    solver.solve()\n",
    "    # compute the smallest eigenvalue\n",
    "    min_eig[i] = stability_monitor(jacobian,neig=2,verbose=False)\n",
    "    # force and end displacement\n",
    "    displ[i] = assemble(u[0]*ds(2))/Ly # average transverse displacement on the rigth end\n",
    "    file_u << (u,t)\n",
    "plt.figure(0)\n",
    "plot(u, mode = \"displacement\")\n",
    "plt.figure(1)\n",
    "plt.plot(loads,displ,\"*\")\n",
    "plt.xlabel(\"load\")\n",
    "plt.ylabel(\"End displacement\")\n",
    "plt.figure(2)\n",
    "plt.plot(loads,min_eig,\"*\")\n",
    "plt.grid()\n",
    "plt.xlabel(\"load\")\n",
    "plt.ylabel(\"smallest eigenvalue\")"
   ]
  },
  {
   "cell_type": "code",
   "execution_count": null,
   "metadata": {},
   "outputs": [],
   "source": []
  }
 ],
 "metadata": {
  "kernelspec": {
   "display_name": "Python 3",
   "language": "python",
   "name": "python3"
  },
  "language_info": {
   "codemirror_mode": {
    "name": "ipython",
    "version": 3
   },
   "file_extension": ".py",
   "mimetype": "text/x-python",
   "name": "python",
   "nbconvert_exporter": "python",
   "pygments_lexer": "ipython3",
   "version": "3.8.5"
  }
 },
 "nbformat": 4,
 "nbformat_minor": 4
}
